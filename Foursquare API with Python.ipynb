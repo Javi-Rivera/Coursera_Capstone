{
 "cells": [
  {
   "cell_type": "markdown",
   "metadata": {},
   "source": [
    "# Foursquare API with Python\n",
    "\n",
    "With this notebook we can construct a URL to send a request to the API to search for a specific type of venues, explore a particular venue, Foursquare user, geographical location and to get trending venues around a location.\n",
    "\n",
    "Using Folium library we can visualize the results."
   ]
  },
  {
   "cell_type": "code",
   "execution_count": 3,
   "metadata": {},
   "outputs": [
    {
     "name": "stdout",
     "output_type": "stream",
     "text": [
      "Libraries Imported!!!\n"
     ]
    }
   ],
   "source": [
    "# Import necessary Libraries\n",
    "\n",
    "import requests #Library that handle requests\n",
    "import pandas as pd\n",
    "import numpy as np\n",
    "import random \n",
    "from geopy.geocoders import Nominatim # Model to convert an address into latitude and longitude values\n",
    "\n",
    "# libraries for displaying images\n",
    "from IPython.display import Image\n",
    "from IPython.core.display import HTML\n",
    "\n",
    "# transforming json file into a pandas dataframe library\n",
    "\n",
    "from pandas.io.json import json_normalize\n",
    "\n",
    "import folium\n",
    "\n",
    "print(\"Libraries Imported!!!\")"
   ]
  },
  {
   "cell_type": "markdown",
   "metadata": {},
   "source": [
    "## Define Foursquare Credentials and Version\n",
    "\n",
    "Make sure the you have created a Foursquare developer account at www.foursquare.com to obtain the necessary tokens."
   ]
  },
  {
   "cell_type": "code",
   "execution_count": null,
   "metadata": {},
   "outputs": [],
   "source": [
    "CLIENT_ID = 'A33DU4DROWAK2BZJLMCCCA2FUHNQXEG2SHHX5XYBZ2YV4FTG' # Foursquare ID\n",
    "CLIENT_SECRET = 'PBQKD0H3CSDIE5H1R3O1OQOGNQE5PCPGS5R4IQYVTBK0MNAR' # Foursquare Secret\n",
    "ACCESS_TOKEN = \n"
   ]
  }
 ],
 "metadata": {
  "kernelspec": {
   "display_name": "Python 3",
   "language": "python",
   "name": "python3"
  },
  "language_info": {
   "codemirror_mode": {
    "name": "ipython",
    "version": 3
   },
   "file_extension": ".py",
   "mimetype": "text/x-python",
   "name": "python",
   "nbconvert_exporter": "python",
   "pygments_lexer": "ipython3",
   "version": "3.7.1"
  }
 },
 "nbformat": 4,
 "nbformat_minor": 4
}
